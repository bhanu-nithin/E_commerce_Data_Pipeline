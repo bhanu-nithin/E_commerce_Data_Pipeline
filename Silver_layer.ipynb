{
 "cells": [
  {
   "cell_type": "code",
   "execution_count": 0,
   "metadata": {
    "application/vnd.databricks.v1+cell": {
     "cellMetadata": {
      "byteLimit": 2048000,
      "rowLimit": 10000
     },
     "inputWidgets": {},
     "nuid": "faabdc85-ab57-41fa-96db-efa370febb2f",
     "showTitle": false,
     "title": ""
    }
   },
   "outputs": [],
   "source": [
    "from pyspark.sql import SparkSession\n",
    "from pyspark.sql.functions import *\n",
    "from pyspark.sql.types import *\n",
    "from delta.tables import DeltaTable"
   ]
  },
  {
   "cell_type": "code",
   "execution_count": 0,
   "metadata": {
    "application/vnd.databricks.v1+cell": {
     "cellMetadata": {
      "byteLimit": 2048000,
      "rowLimit": 10000
     },
     "inputWidgets": {},
     "nuid": "852ae0d4-6161-4391-be3c-d74598a9d621",
     "showTitle": false,
     "title": ""
    }
   },
   "outputs": [],
   "source": [
    "spark = SparkSession.builder.appName(\"EcommerceDataPipeline\").getOrCreate()\n",
    "\n",
    "#defining source and target paths\n",
    "users_bronze = \"/mnt/delta/tables/bronze/users\" #source\n",
    "users_silver = \"/mnt/delta/tables/silver/users\" #target"
   ]
  },
  {
   "cell_type": "code",
   "execution_count": 0,
   "metadata": {
    "application/vnd.databricks.v1+cell": {
     "cellMetadata": {
      "byteLimit": 2048000,
      "rowLimit": 10000
     },
     "inputWidgets": {},
     "nuid": "fc59bc37-7bdf-48dd-bfb0-394f428a95e9",
     "showTitle": false,
     "title": ""
    }
   },
   "outputs": [],
   "source": [
    "#normalize country codes to uppercase\n",
    "userDF = spark.read.format(\"delta\").load(\"/mnt/delta/tables/bronze/users\").withColumn(\"countrycode\", upper(col(\"countrycode\")))"
   ]
  },
  {
   "cell_type": "code",
   "execution_count": 0,
   "metadata": {
    "application/vnd.databricks.v1+cell": {
     "cellMetadata": {
      "byteLimit": 2048000,
      "rowLimit": 10000
     },
     "inputWidgets": {},
     "nuid": "652465d2-f6f1-4579-b964-c7f205d420dc",
     "showTitle": false,
     "title": ""
    }
   },
   "outputs": [],
   "source": [
    "#handling multiple languages elegantly wih \"expr\" and \"case when\"\n",
    "\n",
    "userDF = userDF.withColumn(\"language\"\n",
    "                           , expr(\"case when language = 'en' then 'English' when language = 'fr' then 'French' else 'Other' end\"))\n"
   ]
  },
  {
   "cell_type": "code",
   "execution_count": 0,
   "metadata": {
    "application/vnd.databricks.v1+cell": {
     "cellMetadata": {
      "byteLimit": 2048000,
      "rowLimit": 10000
     },
     "inputWidgets": {},
     "nuid": "2bca1006-c619-4ae7-a5eb-19f756b33222",
     "showTitle": false,
     "title": ""
    }
   },
   "outputs": [],
   "source": [
    "# using regex_replace  to clean civilitytitle values\n",
    "\n",
    "userDF = userDF.withColumn(\n",
    "    \"civilitytitle\",\n",
    "    regexp_replace(col(\"civilitytitle\"), \"(Mmr|Mrs|Ms)\", \"Ms\")\n",
    ")"
   ]
  },
  {
   "cell_type": "code",
   "execution_count": 0,
   "metadata": {
    "application/vnd.databricks.v1+cell": {
     "cellMetadata": {
      "byteLimit": 2048000,
      "rowLimit": 10000
     },
     "inputWidgets": {},
     "nuid": "291839f9-255c-4bf3-9ba9-2a2e276fcc33",
     "showTitle": false,
     "title": ""
    }
   },
   "outputs": [],
   "source": [
    "#derive new coloumn from \"years_since_last_login\" from \"daysSinceLastLogin\"\n",
    "userDF = userDF.withColumn(\"years_since_last_login\", col(\"daysSinceLastLogin\")/365)"
   ]
  },
  {
   "cell_type": "code",
   "execution_count": 0,
   "metadata": {
    "application/vnd.databricks.v1+cell": {
     "cellMetadata": {
      "byteLimit": 2048000,
      "rowLimit": 10000
     },
     "inputWidgets": {},
     "nuid": "9cb24df5-da1b-4899-9b2b-9b630f85f839",
     "showTitle": false,
     "title": ""
    }
   },
   "outputs": [],
   "source": [
    "#calculate age of account in years and categorize in to \"accounts_age_group\"\n",
    "\n",
    "userDF = userDF.withColumn(\n",
    "    \"accounts_age_years\", \n",
    "    round(col(\"seniority\") / 365, 2)\n",
    ")\n",
    "userDF = userDF.withColumn(\n",
    "    \"accounts_age_group\",\n",
    "    when(col(\"accounts_age_years\") < 1, \"New\")\n",
    "    .when((col(\"accounts_age_years\") >= 1) & (col(\"accounts_age_years\") < 3), \"Intermediate\")\n",
    "    .otherwise(\"Experienced\")\n",
    ")\n"
   ]
  },
  {
   "cell_type": "code",
   "execution_count": 0,
   "metadata": {
    "application/vnd.databricks.v1+cell": {
     "cellMetadata": {
      "byteLimit": 2048000,
      "rowLimit": 10000
     },
     "inputWidgets": {},
     "nuid": "e803ce5e-417b-45bb-b268-4f098b0e952d",
     "showTitle": false,
     "title": ""
    }
   },
   "outputs": [],
   "source": [
    "userDF = userDF.withColumn(\"flag_long_title\", length(col(\"civilityTitle\")>10))"
   ]
  },
  {
   "cell_type": "code",
   "execution_count": 0,
   "metadata": {
    "application/vnd.databricks.v1+cell": {
     "cellMetadata": {
      "byteLimit": 2048000,
      "rowLimit": 10000
     },
     "inputWidgets": {},
     "nuid": "8ec1b209-3532-4e6a-ade0-bffe1af6a2b0",
     "showTitle": false,
     "title": ""
    }
   },
   "outputs": [],
   "source": [
    "userDF = userDF.withColumn(\"hasAnyApp\",col(\"hasAnyApp\").cast(\"boolean\"))\n",
    "userDF = userDF.withColumn(\"hasAndroidApp\",col(\"hasAndroidApp\").cast(\"boolean\"))\n",
    "userDF = userDF.withColumn(\"hasIosApp\",col(\"hasIosApp\").cast(\"boolean\"))\n",
    "userDF = userDF.withColumn(\"hasProfilePicture\",col(\"hasProfilePicture\").cast(\"boolean\"))\n",
    "\n",
    "\n",
    "userDF = userDF.withColumn(\"identifierHash\",col(\"identifierHash\").cast(\"int\"))\n",
    "userDF = userDF.withColumn(\"socialNbFollowers\",col(\"socialNbFollowers\").cast(\"int\"))\n",
    "userDF = userDF.withColumn(\"socialNbFollows\",col(\"socialNbFollows\").cast(\"int\"))\n",
    "userDF = userDF.withColumn(\"socialProductsLiked\",col(\"socialProductsLiked\").cast(\"int\"))\n",
    "userDF = userDF.withColumn(\"productsListed\",col(\"productsListed\").cast(\"int\"))  \n",
    "userDF = userDF.withColumn(\"productsSold\",col(\"productsSold\").cast(\"int\"))\n",
    "userDF = userDF.withColumn(\"productsWished\",col(\"productsWished\").cast(\"int\"))\n",
    "userDF = userDF.withColumn(\"productsBought\",col(\"productsBought\").cast(\"int\"))\n",
    "\n",
    "userDF = userDF.withColumn(\"productsPassRate\",col(\"productsPassRate\").cast(\"Decimal(10,2)\"))\n",
    "userDF = userDF.withColumn(\"seniorityAsMonths\",col(\"seniorityAsMonths\").cast(\"Decimal(10,2)\"))\n",
    "userDF = userDF.withColumn(\"seniorityAsYears\",col(\"seniorityAsYears\").cast(\"Decimal(10,2)\"))\n"
   ]
  },
  {
   "cell_type": "code",
   "execution_count": 0,
   "metadata": {
    "application/vnd.databricks.v1+cell": {
     "cellMetadata": {
      "byteLimit": 2048000,
      "rowLimit": 10000
     },
     "inputWidgets": {},
     "nuid": "1d5a6d55-2059-4048-9006-c5cfe131235f",
     "showTitle": false,
     "title": ""
    }
   },
   "outputs": [],
   "source": [
    "userDF = userDF.withColumn(\"daysSinceLastLogin\",\n",
    "                           when(col(\"daysSinceLastLogin\").isNotNull(),\n",
    "                           col(\"daysSinceLastLogin\").cast(\"int\"))\n",
    "                           .otherwise(0)\n",
    ")\n",
    "\n",
    "#userDF = userDF.drop_duplicates(['identifierHash'])\n"
   ]
  },
  {
   "cell_type": "code",
   "execution_count": 0,
   "metadata": {
    "application/vnd.databricks.v1+cell": {
     "cellMetadata": {
      "byteLimit": 2048000,
      "rowLimit": 10000
     },
     "inputWidgets": {},
     "nuid": "61df80a2-906e-4583-9b0c-598250ea4293",
     "showTitle": false,
     "title": ""
    }
   },
   "outputs": [],
   "source": [
    "userDF.write.format(\"delta\").mode(\"append\").option(\"overwriteSchema\", \"true\").save(\"/mnt/delta/tables/silver/users\")\n"
   ]
  },
  {
   "cell_type": "code",
   "execution_count": 0,
   "metadata": {
    "application/vnd.databricks.v1+cell": {
     "cellMetadata": {
      "byteLimit": 2048000,
      "rowLimit": 10000
     },
     "inputWidgets": {},
     "nuid": "826b033f-165c-4db4-b6bf-120c0157502d",
     "showTitle": false,
     "title": ""
    }
   },
   "outputs": [],
   "source": [
    "user_silver_df = spark.read.format(\"delta\").load(users_silver)  #target delta table\n",
    "target_table = DeltaTable.forPath(spark, users_silver)   #target delta table instance for merge operations\n"
   ]
  },
  {
   "cell_type": "code",
   "execution_count": 0,
   "metadata": {
    "application/vnd.databricks.v1+cell": {
     "cellMetadata": {
      "byteLimit": 2048000,
      "rowLimit": 10000
     },
     "inputWidgets": {},
     "nuid": "7cb47c34-d92d-42f6-94a1-f9492ca61a7a",
     "showTitle": false,
     "title": ""
    }
   },
   "outputs": [],
   "source": [
    "target_table.alias(\"target\").merge(\n",
    "  userDF.alias(\"source\"),\n",
    "  \"target.identifierHash = source.identifierHash\") \\\n",
    ".whenMatchedUpdate(\n",
    "  condition = \"target.daysSinceLastLogin <> source.daysSinceLastLogin\",\n",
    "  set = {                                      # Set current to false and endDate to source's effective date.\n",
    "    \"daysSinceLastLogin\": \"source.daysSinceLastLogin\"\n",
    "  }     \n",
    ").whenNotMatchedInsertAll(\n",
    ").execute()"
   ]
  },
  {
   "cell_type": "code",
   "execution_count": 0,
   "metadata": {
    "application/vnd.databricks.v1+cell": {
     "cellMetadata": {
      "byteLimit": 2048000,
      "rowLimit": 10000
     },
     "inputWidgets": {},
     "nuid": "b13d8b67-9ec7-477a-bf4a-d09db28ce32f",
     "showTitle": false,
     "title": ""
    }
   },
   "outputs": [],
   "source": [
    "buyersDF = spark.read.format(\"delta\").load(\"/mnt/delta/tables/bronze/buyers\")"
   ]
  },
  {
   "cell_type": "code",
   "execution_count": 0,
   "metadata": {
    "application/vnd.databricks.v1+cell": {
     "cellMetadata": {
      "byteLimit": 2048000,
      "rowLimit": 10000
     },
     "inputWidgets": {},
     "nuid": "9d31dc43-3b3b-4a70-a023-c9b7ad910c50",
     "showTitle": false,
     "title": ""
    }
   },
   "outputs": [],
   "source": [
    "integer_columns = [\n",
    "    \"buyers\", \"topbuyers\", \"femalebuyers\", \"malebuyers\", \n",
    "    \"topfemalebuyers\", \"totalproductsbought\", \"totalproductswished\", \n",
    "    \"totalproductsliked\", \"toptotalproductsbought\", \n",
    "    \"toptotalproductswished\", \"toptotalproductsliked\"\n",
    "]\n",
    "\n",
    "for column_name in integer_columns:\n",
    "    if column_name in buyersDF.columns:\n",
    "        buyersDF = buyersDF.withColumn(column_name, buyersDF[column_name].cast(\"int\"))"
   ]
  },
  {
   "cell_type": "code",
   "execution_count": 0,
   "metadata": {
    "application/vnd.databricks.v1+cell": {
     "cellMetadata": {
      "byteLimit": 2048000,
      "rowLimit": 10000
     },
     "inputWidgets": {},
     "nuid": "532894dd-c553-4822-bb8a-c9909010a952",
     "showTitle": false,
     "title": ""
    }
   },
   "outputs": [],
   "source": [
    "decimal_coloumns = [\n",
    "    \"topbuyerratio\",\"femalebuyersratio\",\"topfemalebuyersratio\",\"boughtperwishlistratio\",\"boughtperlikeratio\",\"topboughtperwishlistratio\",\"topboughtperlikeratio\",\"meanproductsbought\",\n",
    "    \"meanproductswished\",\"meanproductsliked\",\"topmeanproductsbought\",\"topmeanproductswished\",\n",
    "    \"topmeanproductsliked\",\"meanofflinedays\",\"topmeanofflinedays\",\"meanfollowers\",\"meanfollowing\",\n",
    "    \"topmeanfollowers\",\"topmeanfollowing\"\n",
    "]\n",
    "\n",
    "for column_name in decimal_coloumns:\n",
    "    if column_name in buyersDF.columns:\n",
    "        buyersDF = buyersDF.withColumn(column_name, buyersDF[column_name].cast(\"decimal(5,2)\"))"
   ]
  },
  {
   "cell_type": "code",
   "execution_count": 0,
   "metadata": {
    "application/vnd.databricks.v1+cell": {
     "cellMetadata": {
      "byteLimit": 2048000,
      "rowLimit": 10000
     },
     "inputWidgets": {},
     "nuid": "4328063f-8702-49ab-8140-d639da0ad677",
     "showTitle": false,
     "title": ""
    }
   },
   "outputs": [],
   "source": [
    "#Normalize the country names into captial letters\n",
    "buyersDF = buyersDF.withColumn(\"country\", initcap(col(\"country\")))\n",
    "\n",
    "for col_name in integer_columns:\n",
    "    buyersDF = buyersDF.fillna({col_name:0})\n",
    "\n",
    "#Calculate the ratio of female buyers and male buyers\n",
    "buyersDF = buyersDF.withColumn(\"female_to_male_ratio\", round(col(\"femalebuyers\")/(col(\"malebuyers\") +1), 2))\n",
    "\n",
    "#determinme the market potential  by comparing whislist and purchase ratio\n",
    "buyersDF = buyersDF.withColumn(\"market_potential\", round(col(\"totalproductswished\")/(col(\"totalproductsbought\") +1), 2))\n",
    "\n",
    "# tag countries with high engagement ratio\n",
    "\n",
    "high_engagement_threshold = 0.5\n",
    "\n",
    "buyersDF = buyersDF.withColumn(\"high_engagement\", \n",
    "                               when(col(\"topboughtperwishlistratio\") > high_engagement_threshold, True)\n",
    "                               .otherwise(False))\n",
    "\n",
    "# flag markets with high female ratio                              \n",
    "buyersDF = buyersDF.withColumn(\"growing_female_market\",\n",
    "                               when(col(\"femalebuyersratio\") > col(\"topfemalebuyersratio\"), True)\n",
    "                               .otherwise(False))\n"
   ]
  },
  {
   "cell_type": "code",
   "execution_count": 0,
   "metadata": {
    "application/vnd.databricks.v1+cell": {
     "cellMetadata": {
      "byteLimit": 2048000,
      "rowLimit": 10000
     },
     "inputWidgets": {},
     "nuid": "c5b334b5-3771-4893-b2c7-69c348180d0d",
     "showTitle": false,
     "title": ""
    }
   },
   "outputs": [],
   "source": [
    "# Remove duplicate columns\n",
    "buyersDF = buyersDF.toDF(*[f\"{col}_{i}\" if col in buyersDF.columns[:i] else col \n",
    "                           for i, col in enumerate(buyersDF.columns)])\n"
   ]
  },
  {
   "cell_type": "code",
   "execution_count": 0,
   "metadata": {
    "application/vnd.databricks.v1+cell": {
     "cellMetadata": {
      "byteLimit": 2048000,
      "rowLimit": 10000
     },
     "inputWidgets": {},
     "nuid": "6a39707a-d9e4-43c3-b5c5-834ee10d28b1",
     "showTitle": false,
     "title": ""
    }
   },
   "outputs": [],
   "source": [
    "buyersDF.write.format(\"delta\").mode(\"overwrite\").option(\"overwriteSchema\", \"true\").save(\"/mnt/delta/tables/silver/buyers\")"
   ]
  },
  {
   "cell_type": "code",
   "execution_count": 0,
   "metadata": {
    "application/vnd.databricks.v1+cell": {
     "cellMetadata": {
      "byteLimit": 2048000,
      "rowLimit": 10000
     },
     "inputWidgets": {},
     "nuid": "46f3bf61-1c24-4e9a-bf1e-280b2c45fb25",
     "showTitle": false,
     "title": ""
    }
   },
   "outputs": [],
   "source": [
    "# Drop the 'high_engagement_38' column\n",
    "buyersDF = buyersDF.drop(\"high_engagement_38\",\"column1\",\"column2\")\n"
   ]
  },
  {
   "cell_type": "code",
   "execution_count": 0,
   "metadata": {
    "application/vnd.databricks.v1+cell": {
     "cellMetadata": {
      "byteLimit": 2048000,
      "rowLimit": 10000
     },
     "inputWidgets": {},
     "nuid": "36a1f487-264e-4cd1-aee5-0d1eb6d2e769",
     "showTitle": false,
     "title": ""
    }
   },
   "outputs": [],
   "source": [
    "sellersDF = spark.read.format(\"delta\").load(\"/mnt/delta/tables/bronze/sellers\")"
   ]
  },
  {
   "cell_type": "code",
   "execution_count": 0,
   "metadata": {
    "application/vnd.databricks.v1+cell": {
     "cellMetadata": {
      "byteLimit": 2048000,
      "rowLimit": 10000
     },
     "inputWidgets": {},
     "nuid": "30b43e59-44f6-421d-a202-ddb5fe1a416a",
     "showTitle": false,
     "title": ""
    }
   },
   "outputs": [],
   "source": [
    "sellersDF = sellersDF \\\n",
    "    .withColumn(\"nbsellers\", sellersDF[\"nbsellers\"].cast(IntegerType())) \\\n",
    "    .withColumn(\"meanproductssold\", sellersDF[\"meanproductssold\"].cast(DecimalType(10, 2))) \\\n",
    "    .withColumn(\"meanproductslisted\", sellersDF[\"meanproductslisted\"].cast(DecimalType(10, 2))) \\\n",
    "    .withColumn(\"meansellerpassrate\", sellersDF[\"meansellerpassrate\"].cast(DecimalType(10, 2))) \\\n",
    "    .withColumn(\"totalproductssold\", sellersDF[\"totalproductssold\"].cast(IntegerType())) \\\n",
    "    .withColumn(\"totalproductslisted\", sellersDF[\"totalproductslisted\"].cast(IntegerType())) \\\n",
    "    .withColumn(\"meanproductsbought\", sellersDF[\"meanproductsbought\"].cast(DecimalType(10, 2))) \\\n",
    "    .withColumn(\"meanproductswished\", sellersDF[\"meanproductswished\"].cast(DecimalType(10, 2))) \\\n",
    "    .withColumn(\"meanproductsliked\", sellersDF[\"meanproductsliked\"].cast(DecimalType(10, 2))) \\\n",
    "    .withColumn(\"totalbought\", sellersDF[\"totalbought\"].cast(IntegerType())) \\\n",
    "    .withColumn(\"totalwished\", sellersDF[\"totalwished\"].cast(IntegerType())) \\\n",
    "    .withColumn(\"totalproductsliked\", sellersDF[\"totalproductsliked\"].cast(IntegerType())) \\\n",
    "    .withColumn(\"meanfollowers\", sellersDF[\"meanfollowers\"].cast(DecimalType(10, 2))) \\\n",
    "    .withColumn(\"meanfollows\", sellersDF[\"meanfollows\"].cast(DecimalType(10, 2))) \\\n",
    "    .withColumn(\"percentofappusers\", sellersDF[\"percentofappusers\"].cast(DecimalType(10, 2))) \\\n",
    "    .withColumn(\"percentofiosusers\", sellersDF[\"percentofiosusers\"].cast(DecimalType(10, 2))) \\\n",
    "    .withColumn(\"meanseniority\", sellersDF[\"meanseniority\"].cast(DecimalType(10, 2)))\n"
   ]
  },
  {
   "cell_type": "code",
   "execution_count": 0,
   "metadata": {
    "application/vnd.databricks.v1+cell": {
     "cellMetadata": {
      "byteLimit": 2048000,
      "rowLimit": 10000
     },
     "inputWidgets": {},
     "nuid": "15408275-9672-402f-bee7-c1d53c4d3bc2",
     "showTitle": false,
     "title": ""
    }
   },
   "outputs": [],
   "source": [
    "sellersDF = sellersDF.drop(\"column1\",\"column2\")"
   ]
  },
  {
   "cell_type": "code",
   "execution_count": 0,
   "metadata": {
    "application/vnd.databricks.v1+cell": {
     "cellMetadata": {
      "byteLimit": 2048000,
      "rowLimit": 10000
     },
     "inputWidgets": {},
     "nuid": "c40c7805-33f1-4935-99f1-64e499ed4a0f",
     "showTitle": false,
     "title": ""
    }
   },
   "outputs": [],
   "source": [
    "# normalize the country names and gender values\n",
    "\n",
    "sellersDF = sellersDF.withColumn(\"country\",initcap(col(\"country\")))\\\n",
    "            .withColumn(\"sex\",upper(col(\"sex\")))\n",
    "\n",
    "\n",
    "# Adding a coloumn to categorize the size acording to the number of sellers\n",
    "\n",
    "sellersDF = sellersDF.withColumn(\"selling_size_category\",\n",
    "                                 when(col(\"nbsellers\")<500, \"Small\")\\\n",
    "                                 .when((col(\"nbsellers\")>=500) & (col(\"nbsellers\")<2000), \"Medium\")\\\n",
    "                                .otherwise(\"Big\")\n",
    "                                 )\n",
    "\n",
    "\n",
    "\n",
    "# calculate the mean product listed per seller as an indicator of seller activity\n",
    "sellersDF = sellersDF.withColumn(\"meanproductslistedperseller\",\n",
    "                                 round(col(\"meanproductslisted\") / col(\"nbsellers\"), 2))\n",
    "\n",
    "#calcualte sellers with high pass rate\n",
    "\n",
    "sellersDF = sellersDF.withColumn(\"highpassrate\",\n",
    "                                 when(col(\"meansellerpassrate\")>=0.75, \"High\")\\\n",
    "                                .otherwise(\"normal\")\n",
    "                                )\n",
    "\n",
    "\n",
    "\n",
    "mean_pass_rate = sellersDF.select(round(avg(\"meansellerpassrate\"),2).alias(\"avg_pass_rate\")).collect()[0][\"avg_pass_rate\"]\n",
    "\n",
    "sellersDF = sellersDF.withColumn(\"meansellerpassrate\",\n",
    "                                 when(col(\"meansellerpassrate\").isNull(), mean_pass_rate)\n",
    "                                 .otherwise(col(\"meansellerpassrate\"))\n",
    "                                )"
   ]
  },
  {
   "cell_type": "code",
   "execution_count": 0,
   "metadata": {
    "application/vnd.databricks.v1+cell": {
     "cellMetadata": {
      "byteLimit": 2048000,
      "rowLimit": 10000
     },
     "inputWidgets": {},
     "nuid": "32183272-f82c-4d5b-8c0e-f8d94946756b",
     "showTitle": false,
     "title": ""
    }
   },
   "outputs": [],
   "source": [
    "sellersDF.write.format(\"delta\").mode(\"overwrite\").option(\"mergeSchema\", \"true\").save(\"/mnt/delta/tables/silver/sellers\")"
   ]
  },
  {
   "cell_type": "code",
   "execution_count": 0,
   "metadata": {
    "application/vnd.databricks.v1+cell": {
     "cellMetadata": {
      "byteLimit": 2048000,
      "rowLimit": 10000
     },
     "inputWidgets": {},
     "nuid": "e18065e2-77f8-46a9-936f-c0cfb8bf9d1c",
     "showTitle": false,
     "title": ""
    }
   },
   "outputs": [],
   "source": [
    "countriesDF = spark.read.format(\"delta\").load(\"/mnt/delta/tables/bronze/countries\")\n",
    "\n",
    "countriesDF = countriesDF \\\n",
    "    .withColumn(\"sellers\", col(\"sellers\").cast(\"int\")) \\\n",
    "    .withColumn(\"topsellers\", col(\"topsellers\").cast(\"int\")) \\\n",
    "    .withColumn(\"topsellerratio\", col(\"topsellerratio\").cast(\"decimal(10, 2)\")) \\\n",
    "    .withColumn(\"femalesellersratio\", col(\"femalesellersratio\").cast(\"decimal(10, 2)\")) \\\n",
    "    .withColumn(\"topfemalesellersratio\", col(\"topfemalesellersratio\").cast(\"decimal(10, 2)\")) \\\n",
    "    .withColumn(\"femalesellers\", col(\"femalesellers\").cast(\"int\")) \\\n",
    "    .withColumn(\"malesellers\", col(\"malesellers\").cast(\"int\")) \\\n",
    "    .withColumn(\"topfemalesellers\", col(\"topfemalesellers\").cast(\"int\")) \\\n",
    "    .withColumn(\"topmalesellers\", col(\"topmalesellers\").cast(\"int\")) \\\n",
    "    .withColumn(\"countrysoldratio\", col(\"countrysoldratio\").cast(\"decimal(10, 2)\")) \\\n",
    "    .withColumn(\"bestsoldratio\", col(\"bestsoldratio\").cast(\"decimal(10, 2)\")) \\\n",
    "    .withColumn(\"toptotalproductssold\", col(\"toptotalproductssold\").cast(\"int\")) \\\n",
    "    .withColumn(\"totalproductssold\", col(\"totalproductssold\").cast(\"int\")) \\\n",
    "    .withColumn(\"toptotalproductslisted\", col(\"toptotalproductslisted\").cast(\"int\")) \\\n",
    "    .withColumn(\"totalproductslisted\", col(\"totalproductslisted\").cast(\"int\")) \\\n",
    "    .withColumn(\"topmeanproductssold\", col(\"topmeanproductssold\").cast(\"decimal(10, 2)\")) \\\n",
    "    .withColumn(\"topmeanproductslisted\", col(\"topmeanproductslisted\").cast(\"decimal(10, 2)\")) \\\n",
    "    .withColumn(\"meanproductssold\", col(\"meanproductssold\").cast(\"decimal(10, 2)\")) \\\n",
    "    .withColumn(\"meanproductslisted\", col(\"meanproductslisted\").cast(\"decimal(10, 2)\")) \\\n",
    "    .withColumn(\"meanofflinedays\", col(\"meanofflinedays\").cast(\"decimal(10, 2)\")) \\\n",
    "    .withColumn(\"topmeanofflinedays\", col(\"topmeanofflinedays\").cast(\"decimal(10, 2)\")) \\\n",
    "    .withColumn(\"meanfollowers\", col(\"meanfollowers\").cast(\"decimal(10, 2)\")) \\\n",
    "    .withColumn(\"meanfollowing\", col(\"meanfollowing\").cast(\"decimal(10, 2)\")) \\\n",
    "    .withColumn(\"topmeanfollowers\", col(\"topmeanfollowers\").cast(\"decimal(10, 2)\")) \\\n",
    "    .withColumn(\"topmeanfollowing\", col(\"topmeanfollowing\").cast(\"decimal(10, 2)\"))\n",
    "\n",
    "\n",
    "countriesDF = countriesDF.drop(\"column1\",\"column2\")\n"
   ]
  },
  {
   "cell_type": "code",
   "execution_count": 0,
   "metadata": {
    "application/vnd.databricks.v1+cell": {
     "cellMetadata": {
      "byteLimit": 2048000,
      "rowLimit": 10000
     },
     "inputWidgets": {},
     "nuid": "be707f75-becf-410f-9cfa-b6ae18bc295e",
     "showTitle": false,
     "title": ""
    }
   },
   "outputs": [],
   "source": [
    "countriesDF = countriesDF.withColumn(\"country\",initcap(col(\"country\")))\n",
    "#calculate the ratio of top sellers to total sellers\n",
    "countriesDF = countriesDF.withColumn(\"top_seller_ratio\",\n",
    "                                     round(col(\"topsellers\")/col(\"sellers\"),2)\n",
    "                                     )\n",
    "# countries with high ratio of female seller\n",
    "countriesDF = countriesDF.withColumn(\"high_female_seller_ratio\",\n",
    "                                     when(col(\"femalesellersratio\") > 0.5, True)\\\n",
    "                                     .otherwise(False)\n",
    "                                     )\n",
    "# creating a performance indicator based on products sold with the products listed\n",
    "countriesDF = countriesDF.withColumn(\"performance_indicator\",\n",
    "                                     round(col(\"meanproductssold\")/col(\"meanproductslisted\"),2)\n",
    "                                    )   \n",
    "#flag countries with high performance\n",
    "High_performace_threshold = 0.7\n",
    "countriesDF =countriesDF.withColumn(\"high_performance\",\n",
    "                                     when(col(\"performance_indicator\") > High_performace_threshold, True)\n",
    "                                     .otherwise(False)\n",
    "                                    )\n",
    "# countries activity level\n",
    "countriesDF = countriesDF.withColumn(\"activity_level\",\n",
    "                                     when(col(\"meanofflinedays\") > 30, \"High\")\\\n",
    "                                    .when((col(\"meanofflinedays\") <30) & (col(\"meanofflinedays\") > 10), \"Medium\")\\\n",
    "                                    .otherwise(\"Low\")\n",
    "                                    )\n"
   ]
  },
  {
   "cell_type": "code",
   "execution_count": 0,
   "metadata": {
    "application/vnd.databricks.v1+cell": {
     "cellMetadata": {
      "byteLimit": 2048000,
      "rowLimit": 10000
     },
     "inputWidgets": {},
     "nuid": "eeb0cd24-5c8b-4e17-a260-17f90bbe7164",
     "showTitle": false,
     "title": ""
    }
   },
   "outputs": [],
   "source": [
    "countriesDF.write.format(\"delta\").mode(\"overwrite\").option(\"mergeSchema\", \"true\").save(\"/mnt/delta/tables/silver/countries\")"
   ]
  },
  {
   "cell_type": "code",
   "execution_count": 0,
   "metadata": {
    "application/vnd.databricks.v1+cell": {
     "cellMetadata": {
      "byteLimit": 2048000,
      "rowLimit": 10000
     },
     "inputWidgets": {},
     "nuid": "98b18dff-b941-4519-8fa1-0263e54bffc0",
     "showTitle": false,
     "title": ""
    }
   },
   "outputs": [],
   "source": []
  }
 ],
 "metadata": {
  "application/vnd.databricks.v1+notebook": {
   "dashboards": [],
   "environmentMetadata": null,
   "language": "python",
   "notebookMetadata": {
    "pythonIndentUnit": 4
   },
   "notebookName": "Silver_layer",
   "widgets": {}
  }
 },
 "nbformat": 4,
 "nbformat_minor": 0
}
